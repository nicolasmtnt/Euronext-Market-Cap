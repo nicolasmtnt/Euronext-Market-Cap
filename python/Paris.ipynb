{
 "cells": [
  {
   "cell_type": "code",
   "execution_count": 134,
   "id": "c6d2be86",
   "metadata": {},
   "outputs": [],
   "source": [
    "import pandas as pd\n",
    "pd.options.display.max_rows = 50\n",
    "import requests\n",
    "from bs4 import BeautifulSoup\n",
    "import re\n",
    "import matplotlib.pyplot as plt\n",
    "\n",
    "# api https://live.euronext.com/fr/intraday_chart/getDetailedQuoteAjax/FR0000130452-XPAR/full"
   ]
  },
  {
   "cell_type": "code",
   "execution_count": 135,
   "id": "7f0d6680",
   "metadata": {},
   "outputs": [],
   "source": [
    "df= pd.read_excel(\"dataParis.xlsx\")\n",
    "df.drop([0,1,2], inplace=True)\n",
    "df.reset_index(drop=True, inplace=True)\n"
   ]
  },
  {
   "cell_type": "code",
   "execution_count": 200,
   "id": "485599be",
   "metadata": {},
   "outputs": [],
   "source": [
    "def getMarketCap(ISIN):\n",
    "    url = f\"https://live.euronext.com/fr/intraday_chart/getDetailedQuoteAjax/{ISIN}-XPAR/full\"\n",
    "    response = requests.get(url)\n",
    "    if(response.ok):\n",
    "        soup = BeautifulSoup(response.text)\n",
    "        try:\n",
    "            capitalization = soup.find(\"tbody\").findAll('tr')[11].find(class_=\"font-weight-medium\").text\n",
    "            return capitalization\n",
    "        except IndexError:\n",
    "            return 0\n",
    "\n",
    "def convertToInt(ISIN):\n",
    "    if(type(ISIN)==str):\n",
    "        if(\"Md\" in ISIN):\n",
    "            return (float(ISIN.replace(\"Md\",\"\").replace(\",\",\".\")))\n",
    "        if(\"Md\" in ISIN):\n",
    "            return 0\n",
    "\n",
    "def getMarketCapInt(ISIN):\n",
    "    return convertToInt(getMarketCap(ISIN))"
   ]
  },
  {
   "cell_type": "code",
   "execution_count": 201,
   "id": "09693191",
   "metadata": {},
   "outputs": [],
   "source": [
    "def addMarketCap():\n",
    "    for i, row in df.iterrows():\n",
    "        if(i>106):\n",
    "            print(row['ISIN'])\n",
    "            df.at[i,'MarketCap'] = getMarketCapInt(row['ISIN'])\n",
    "            print(i)\n",
    "    df.sort_values(by='MarketCap', ascending=False,ignore_index=True, inplace=True)\n"
   ]
  },
  {
   "cell_type": "code",
   "execution_count": 231,
   "id": "260d7639",
   "metadata": {},
   "outputs": [],
   "source": [
    "def removeNonFrenchCompany():\n",
    "    index=[]\n",
    "    for i, row in df.iterrows():\n",
    "        if(not('FR' in df.loc[i]['ISIN'])):\n",
    "            index.append(i)\n",
    "    df.drop(index, inplace=True)\n",
    "    df.reset_index(drop=True, inplace=True)\n",
    "removeNonFrenchCompany()"
   ]
  },
  {
   "cell_type": "code",
   "execution_count": 391,
   "id": "8f55a4ee",
   "metadata": {},
   "outputs": [],
   "source": [
    "def pieByPercent(i,size=150):\n",
    "    plt.rcParams['figure.dpi'] = size\n",
    "    plt.rcParams['savefig.dpi'] = size\n",
    "    name = df['Name'].to_list()\n",
    "    marketCap = df['MarketCap'].to_list()\n",
    "    plt.pie(marketCap[0:i], labels =name[0:i], wedgeprops={'edgecolor':'black', 'linewidth': 0.5}, shadow=True, autopct='%1.1f%%', textprops={'fontsize': 1500/size})\n",
    "    plt.title(f\"Largest {i} french companies listed on Euronext Paris\")\n",
    "    plt.savefig(f\"piechart{i}\")\n",
    "\n",
    "\n",
    "\n",
    "    "
   ]
  }
 ],
 "metadata": {
  "kernelspec": {
   "display_name": "Python 3 (ipykernel)",
   "language": "python",
   "name": "python3"
  },
  "language_info": {
   "codemirror_mode": {
    "name": "ipython",
    "version": 3
   },
   "file_extension": ".py",
   "mimetype": "text/x-python",
   "name": "python",
   "nbconvert_exporter": "python",
   "pygments_lexer": "ipython3",
   "version": "3.8.12"
  }
 },
 "nbformat": 4,
 "nbformat_minor": 5
}
